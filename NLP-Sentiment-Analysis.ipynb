{
  "cells": [
    {
      "cell_type": "markdown",
      "metadata": {
        "id": "b0fiAeNisrAI"
      },
      "source": [
        " Zehra HİÇYILMAZ"
      ]
    },
    {
      "cell_type": "markdown",
      "metadata": {
        "id": "kb48RECvh1nJ"
      },
      "source": [
        "- **Amaç:** IMDB film yorumlarını pozitif veya negatif olarak sınıflandırmak.  \n",
        "- **Veri Seti:** IMDB Dataset of 50K Movie Reviews.  \n",
        "- **Model:** LSTM (Long Short-Term Memory).  \n",
        "- **Algoritma:** Adam optimizasyon algoritması ile derin öğrenme.  \n",
        "- **Performans:** Eğitim doğruluğu %90.9, test doğruluğu %87.4.  "
      ]
    },
    {
      "cell_type": "code",
      "execution_count": null,
      "metadata": {
        "id": "35TkRpKujBFJ"
      },
      "outputs": [],
      "source": [
        "import pandas as pd\n",
        "import numpy as np\n",
        "import re\n",
        "import matplotlib.pyplot as plt\n",
        "from sklearn.metrics import confusion_matrix, ConfusionMatrixDisplay\n",
        "from tensorflow.keras.preprocessing.text import Tokenizer\n",
        "from tensorflow.keras.preprocessing.sequence import pad_sequences\n",
        "from tensorflow.keras.models import Sequential\n",
        "from tensorflow.keras.layers import LSTM, Dense, Embedding, Dropout\n",
        "from tensorflow.keras.optimizers import Adam\n",
        "from sklearn.model_selection import train_test_split\n",
        "import nltk\n",
        "from nltk.corpus import stopwords\n",
        "from nltk.stem import WordNetLemmatizer\n",
        "from sklearn.metrics import f1_score, recall_score"
      ]
    },
    {
      "cell_type": "code",
      "execution_count": null,
      "metadata": {
        "colab": {
          "base_uri": "https://localhost:8080/",
          "height": 90
        },
        "collapsed": true,
        "id": "oojG_z4pkmu1",
        "outputId": "5b188e49-f325-45eb-af41-597b8a66a857"
      },
      "outputs": [
        {
          "data": {
            "text/html": [
              "\n",
              "     <input type=\"file\" id=\"files-152cfe51-1e11-4e4a-905b-13d7a95becee\" name=\"files[]\" multiple disabled\n",
              "        style=\"border:none\" />\n",
              "     <output id=\"result-152cfe51-1e11-4e4a-905b-13d7a95becee\">\n",
              "      Upload widget is only available when the cell has been executed in the\n",
              "      current browser session. Please rerun this cell to enable.\n",
              "      </output>\n",
              "      <script>// Copyright 2017 Google LLC\n",
              "//\n",
              "// Licensed under the Apache License, Version 2.0 (the \"License\");\n",
              "// you may not use this file except in compliance with the License.\n",
              "// You may obtain a copy of the License at\n",
              "//\n",
              "//      http://www.apache.org/licenses/LICENSE-2.0\n",
              "//\n",
              "// Unless required by applicable law or agreed to in writing, software\n",
              "// distributed under the License is distributed on an \"AS IS\" BASIS,\n",
              "// WITHOUT WARRANTIES OR CONDITIONS OF ANY KIND, either express or implied.\n",
              "// See the License for the specific language governing permissions and\n",
              "// limitations under the License.\n",
              "\n",
              "/**\n",
              " * @fileoverview Helpers for google.colab Python module.\n",
              " */\n",
              "(function(scope) {\n",
              "function span(text, styleAttributes = {}) {\n",
              "  const element = document.createElement('span');\n",
              "  element.textContent = text;\n",
              "  for (const key of Object.keys(styleAttributes)) {\n",
              "    element.style[key] = styleAttributes[key];\n",
              "  }\n",
              "  return element;\n",
              "}\n",
              "\n",
              "// Max number of bytes which will be uploaded at a time.\n",
              "const MAX_PAYLOAD_SIZE = 100 * 1024;\n",
              "\n",
              "function _uploadFiles(inputId, outputId) {\n",
              "  const steps = uploadFilesStep(inputId, outputId);\n",
              "  const outputElement = document.getElementById(outputId);\n",
              "  // Cache steps on the outputElement to make it available for the next call\n",
              "  // to uploadFilesContinue from Python.\n",
              "  outputElement.steps = steps;\n",
              "\n",
              "  return _uploadFilesContinue(outputId);\n",
              "}\n",
              "\n",
              "// This is roughly an async generator (not supported in the browser yet),\n",
              "// where there are multiple asynchronous steps and the Python side is going\n",
              "// to poll for completion of each step.\n",
              "// This uses a Promise to block the python side on completion of each step,\n",
              "// then passes the result of the previous step as the input to the next step.\n",
              "function _uploadFilesContinue(outputId) {\n",
              "  const outputElement = document.getElementById(outputId);\n",
              "  const steps = outputElement.steps;\n",
              "\n",
              "  const next = steps.next(outputElement.lastPromiseValue);\n",
              "  return Promise.resolve(next.value.promise).then((value) => {\n",
              "    // Cache the last promise value to make it available to the next\n",
              "    // step of the generator.\n",
              "    outputElement.lastPromiseValue = value;\n",
              "    return next.value.response;\n",
              "  });\n",
              "}\n",
              "\n",
              "/**\n",
              " * Generator function which is called between each async step of the upload\n",
              " * process.\n",
              " * @param {string} inputId Element ID of the input file picker element.\n",
              " * @param {string} outputId Element ID of the output display.\n",
              " * @return {!Iterable<!Object>} Iterable of next steps.\n",
              " */\n",
              "function* uploadFilesStep(inputId, outputId) {\n",
              "  const inputElement = document.getElementById(inputId);\n",
              "  inputElement.disabled = false;\n",
              "\n",
              "  const outputElement = document.getElementById(outputId);\n",
              "  outputElement.innerHTML = '';\n",
              "\n",
              "  const pickedPromise = new Promise((resolve) => {\n",
              "    inputElement.addEventListener('change', (e) => {\n",
              "      resolve(e.target.files);\n",
              "    });\n",
              "  });\n",
              "\n",
              "  const cancel = document.createElement('button');\n",
              "  inputElement.parentElement.appendChild(cancel);\n",
              "  cancel.textContent = 'Cancel upload';\n",
              "  const cancelPromise = new Promise((resolve) => {\n",
              "    cancel.onclick = () => {\n",
              "      resolve(null);\n",
              "    };\n",
              "  });\n",
              "\n",
              "  // Wait for the user to pick the files.\n",
              "  const files = yield {\n",
              "    promise: Promise.race([pickedPromise, cancelPromise]),\n",
              "    response: {\n",
              "      action: 'starting',\n",
              "    }\n",
              "  };\n",
              "\n",
              "  cancel.remove();\n",
              "\n",
              "  // Disable the input element since further picks are not allowed.\n",
              "  inputElement.disabled = true;\n",
              "\n",
              "  if (!files) {\n",
              "    return {\n",
              "      response: {\n",
              "        action: 'complete',\n",
              "      }\n",
              "    };\n",
              "  }\n",
              "\n",
              "  for (const file of files) {\n",
              "    const li = document.createElement('li');\n",
              "    li.append(span(file.name, {fontWeight: 'bold'}));\n",
              "    li.append(span(\n",
              "        `(${file.type || 'n/a'}) - ${file.size} bytes, ` +\n",
              "        `last modified: ${\n",
              "            file.lastModifiedDate ? file.lastModifiedDate.toLocaleDateString() :\n",
              "                                    'n/a'} - `));\n",
              "    const percent = span('0% done');\n",
              "    li.appendChild(percent);\n",
              "\n",
              "    outputElement.appendChild(li);\n",
              "\n",
              "    const fileDataPromise = new Promise((resolve) => {\n",
              "      const reader = new FileReader();\n",
              "      reader.onload = (e) => {\n",
              "        resolve(e.target.result);\n",
              "      };\n",
              "      reader.readAsArrayBuffer(file);\n",
              "    });\n",
              "    // Wait for the data to be ready.\n",
              "    let fileData = yield {\n",
              "      promise: fileDataPromise,\n",
              "      response: {\n",
              "        action: 'continue',\n",
              "      }\n",
              "    };\n",
              "\n",
              "    // Use a chunked sending to avoid message size limits. See b/62115660.\n",
              "    let position = 0;\n",
              "    do {\n",
              "      const length = Math.min(fileData.byteLength - position, MAX_PAYLOAD_SIZE);\n",
              "      const chunk = new Uint8Array(fileData, position, length);\n",
              "      position += length;\n",
              "\n",
              "      const base64 = btoa(String.fromCharCode.apply(null, chunk));\n",
              "      yield {\n",
              "        response: {\n",
              "          action: 'append',\n",
              "          file: file.name,\n",
              "          data: base64,\n",
              "        },\n",
              "      };\n",
              "\n",
              "      let percentDone = fileData.byteLength === 0 ?\n",
              "          100 :\n",
              "          Math.round((position / fileData.byteLength) * 100);\n",
              "      percent.textContent = `${percentDone}% done`;\n",
              "\n",
              "    } while (position < fileData.byteLength);\n",
              "  }\n",
              "\n",
              "  // All done.\n",
              "  yield {\n",
              "    response: {\n",
              "      action: 'complete',\n",
              "    }\n",
              "  };\n",
              "}\n",
              "\n",
              "scope.google = scope.google || {};\n",
              "scope.google.colab = scope.google.colab || {};\n",
              "scope.google.colab._files = {\n",
              "  _uploadFiles,\n",
              "  _uploadFilesContinue,\n",
              "};\n",
              "})(self);\n",
              "</script> "
            ],
            "text/plain": [
              "<IPython.core.display.HTML object>"
            ]
          },
          "metadata": {},
          "output_type": "display_data"
        },
        {
          "name": "stdout",
          "output_type": "stream",
          "text": [
            "Saving kaggle.json to kaggle.json\n"
          ]
        },
        {
          "data": {
            "text/plain": [
              "{'kaggle.json': b'{\"username\":\"zehraerva\",\"key\":\"c50b68fb59310f2fef7adc73186b1a92\"}'}"
            ]
          },
          "execution_count": 6,
          "metadata": {},
          "output_type": "execute_result"
        }
      ],
      "source": [
        "from google.colab import files\n",
        "\n",
        "\n",
        "files.upload()"
      ]
    },
    {
      "cell_type": "code",
      "execution_count": null,
      "metadata": {
        "id": "MlrzIHtxknkR"
      },
      "outputs": [],
      "source": [
        "!mkdir -p ~/.kaggle\n",
        "!cp kaggle.json ~/.kaggle/\n",
        "!chmod 600 ~/.kaggle/kaggle.json"
      ]
    },
    {
      "cell_type": "code",
      "execution_count": null,
      "metadata": {
        "colab": {
          "base_uri": "https://localhost:8080/"
        },
        "collapsed": true,
        "id": "bVT22sCXkqUr",
        "outputId": "415076d6-27bd-4881-fcb3-392370e99a8e"
      },
      "outputs": [
        {
          "name": "stdout",
          "output_type": "stream",
          "text": [
            "Dataset URL: https://www.kaggle.com/datasets/lakshmi25npathi/imdb-dataset-of-50k-movie-reviews\n",
            "License(s): other\n",
            "Downloading imdb-dataset-of-50k-movie-reviews.zip to /content\n",
            " 89% 23.0M/25.7M [00:00<00:00, 107MB/s] \n",
            "100% 25.7M/25.7M [00:00<00:00, 98.1MB/s]\n"
          ]
        }
      ],
      "source": [
        "!kaggle datasets download -d lakshmi25npathi/imdb-dataset-of-50k-movie-reviews"
      ]
    },
    {
      "cell_type": "code",
      "execution_count": null,
      "metadata": {
        "colab": {
          "base_uri": "https://localhost:8080/"
        },
        "collapsed": true,
        "id": "ObV2xK51kt5p",
        "outputId": "b7655dd5-5ea3-498f-b526-0069f26f8fbb"
      },
      "outputs": [
        {
          "name": "stdout",
          "output_type": "stream",
          "text": [
            "Archive:  imdb-dataset-of-50k-movie-reviews.zip\n",
            "  inflating: IMDB Dataset.csv        \n"
          ]
        }
      ],
      "source": [
        "!unzip imdb-dataset-of-50k-movie-reviews.zip"
      ]
    },
    {
      "cell_type": "markdown",
      "metadata": {
        "id": "ThLJDuDwRvmu"
      },
      "source": [
        "**Stopwords** :Doğal dil işleme projelerinde, \"ve\", \"ama\", \"bir\", \"gibi\" gibi genellikle anlam taşımayan kelimelerdir.\n",
        "Metin analizinde bu kelimeler filtrelenerek modelin daha anlamlı kelimeler üzerinde çalışması sağlanır."
      ]
    },
    {
      "cell_type": "markdown",
      "metadata": {
        "id": "vOkLX88ySldm"
      },
      "source": [
        "**Wordnet :** Kelimeleri kök hallerine (lemma) dönüştürmek için kullanılır."
      ]
    },
    {
      "cell_type": "code",
      "execution_count": null,
      "metadata": {
        "colab": {
          "base_uri": "https://localhost:8080/"
        },
        "collapsed": true,
        "id": "XJ878VZnj4VV",
        "outputId": "337bb230-5d01-4dd0-b219-64e104c8dce2"
      },
      "outputs": [
        {
          "name": "stderr",
          "output_type": "stream",
          "text": [
            "[nltk_data] Downloading package stopwords to /root/nltk_data...\n",
            "[nltk_data]   Package stopwords is already up-to-date!\n",
            "[nltk_data] Downloading package wordnet to /root/nltk_data...\n",
            "[nltk_data]   Package wordnet is already up-to-date!\n"
          ]
        },
        {
          "data": {
            "text/plain": [
              "True"
            ]
          },
          "execution_count": 13,
          "metadata": {},
          "output_type": "execute_result"
        }
      ],
      "source": [
        "# NLTK veri setlerini indirmek için\n",
        "nltk.download('stopwords')\n",
        "nltk.download('wordnet')"
      ]
    },
    {
      "cell_type": "code",
      "execution_count": null,
      "metadata": {
        "id": "btGxVUOxkAis"
      },
      "outputs": [],
      "source": [
        "# Verinin temizlenmesi fonksiyonu\n",
        "def clean_text(text):\n",
        "    # Küçük harfe dönüştürme\n",
        "    text = text.lower()\n",
        "\n",
        "    # Sayılardan temizleme\n",
        "    text = re.sub(r'\\d+', '', text)\n",
        "\n",
        "    # Özel karakterlerden temizleme\n",
        "    text = re.sub(r'[^\\w\\s]', '', text)\n",
        "\n",
        "    # Fazla boşlukları kaldırma\n",
        "    text = re.sub(r'\\s+', ' ', text).strip()\n",
        "\n",
        "    # Stopwords kelimelerinden temizleme\n",
        "    stop_words = set(stopwords.words('english'))\n",
        "    text = ' '.join([word for word in text.split() if word not in stop_words])\n",
        "\n",
        "    # Lemmatizasyon (kelime köklerine indirgeme)\n",
        "    lemmatizer = WordNetLemmatizer()\n",
        "    text = ' '.join([lemmatizer.lemmatize(word) for word in text.split()])\n",
        "\n",
        "    return text"
      ]
    },
    {
      "cell_type": "markdown",
      "metadata": {
        "id": "ObO8t5vsUHih"
      },
      "source": [
        "Metni token'lara ayırarak sayısal bir diziye dönüştürür.\n",
        "\n",
        "Modelden verilen metnin duygu analizine ilişkin bir olasılık değeri alır.\n",
        "Tahmin sonucuna göre etiketleme yapar."
      ]
    },
    {
      "cell_type": "code",
      "execution_count": null,
      "metadata": {
        "id": "xsewCa7qkK2r"
      },
      "outputs": [],
      "source": [
        "# Kullanıcıdan yorum alıp tahmin etme fonksiyonu\n",
        "def predict_sentiment(text):\n",
        "    # Yorumun sayısal hale getirilmesi\n",
        "    seq = tokenizer.texts_to_sequences([text])\n",
        "    padded = pad_sequences(seq, maxlen=max_length, padding='post')\n",
        "\n",
        "    # Model ile tahmin yapma\n",
        "    prediction = model.predict(padded)\n",
        "\n",
        "    # Tahmin sonucuna göre pozitif veya negatif etiketleme\n",
        "    if prediction > 0.5:\n",
        "        return \"Pozitif Yorum\"\n",
        "    else:\n",
        "        return \"Negatif Yorum\""
      ]
    },
    {
      "cell_type": "markdown",
      "metadata": {
        "id": "K3eCquKJVyZ1"
      },
      "source": [
        "Önce ve Sonrasına Örnek:\n",
        "\n",
        "Ham Yorum: \"I love this movie! It's amazing.\"\n",
        "\n",
        "Temizlenmiş Yorum: \"love movie amazing\""
      ]
    },
    {
      "cell_type": "code",
      "execution_count": null,
      "metadata": {
        "id": "vDuDSqRblRTS"
      },
      "outputs": [],
      "source": [
        "# CSV dosyasını yükleyin\n",
        "data = pd.read_csv('IMDB Dataset.csv')\n",
        "\n",
        "# Yorumları temizleyelim\n",
        "data['review'] = data['review'].apply(clean_text)"
      ]
    },
    {
      "cell_type": "code",
      "execution_count": null,
      "metadata": {
        "id": "QF_H6CG6nARI"
      },
      "outputs": [],
      "source": [
        "# Etiketleri sayısal formata dönüştürme (positive -> 1, negative -> 0)\n",
        "data['sentiment'] = data['sentiment'].apply(lambda x: 1 if x == 'positive' else 0)\n",
        "\n",
        "# Veriyi eğitim ve test olarak ayırma\n",
        "X = data['review']\n",
        "y = data['sentiment']\n",
        "X_train, X_test, y_train, y_test = train_test_split(X, y, test_size=0.2, random_state=42)"
      ]
    },
    {
      "cell_type": "markdown",
      "metadata": {
        "id": "QJOhlMTMWtpF"
      },
      "source": [
        "Neden önemli?\n",
        "\n",
        "Bazı işlemler sırasında etiketler float64 veya object türünde olabilir. Özellikle TensorFlow veya diğer derin öğrenme kütüphanelerinde, etiketlerin tam sayı (int) türünde olması gereklidir."
      ]
    },
    {
      "cell_type": "code",
      "execution_count": null,
      "metadata": {
        "id": "VJpO-X0EnBOl"
      },
      "outputs": [],
      "source": [
        "# Etiketlerin sayısal formata dönüştüğünden emin olalım (int türünde)\n",
        "y_train = y_train.astype('int32')\n",
        "y_test = y_test.astype('int32')\n"
      ]
    },
    {
      "cell_type": "markdown",
      "metadata": {
        "id": "OYQBXhlgXpbo"
      },
      "source": [
        " Metin verisini analiz edilebilir bir sayısal forma dönüştürmek.\n",
        "\n",
        "  Örneğin bu kodda en sık geçen ilk 5000 kelimeyi dikkate alır. Daha nadir kelimeler göz ardı edilir.\n",
        "\n",
        " Tokenizer, metin verisindeki kelimeleri sıklıklarına göre sıralar ve bir \"kelime-sayı\" sözlüğü oluşturur.\n",
        "\n",
        " Daha sık geçen kelimeler daha düşük indekslere atanır."
      ]
    },
    {
      "cell_type": "code",
      "execution_count": null,
      "metadata": {
        "id": "g7Ps8WdsnFwa"
      },
      "outputs": [],
      "source": [
        "# Tokenizer oluşturma ve veriyi sayısal hale getirme\n",
        "tokenizer = Tokenizer(num_words=5000)\n",
        "tokenizer.fit_on_texts(X_train)"
      ]
    },
    {
      "cell_type": "markdown",
      "metadata": {
        "id": "nifUCrjWZBpr"
      },
      "source": [
        "Tüm dizilerin aynı uzunlukta olmasını sağlamak (model giriş boyutuyla uyumlu hale getirmek).\n",
        "\n",
        "Bu örnekte dizilerin maksimum uzunluğu 100 olarak ayarlanır. Daha uzun diziler kesilir, daha kısa diziler sıfırlarla doldurulur."
      ]
    },
    {
      "cell_type": "code",
      "execution_count": null,
      "metadata": {
        "id": "XZqtRADNnJaA"
      },
      "outputs": [],
      "source": [
        "# Veriyi sıralama ve padding yapma\n",
        "X_train_seq = tokenizer.texts_to_sequences(X_train)\n",
        "X_test_seq = tokenizer.texts_to_sequences(X_test)\n",
        "\n",
        "max_length = 100  # Cümlelerin maksimum uzunluğu\n",
        "X_train_pad = pad_sequences(X_train_seq, maxlen=max_length, padding='post')\n",
        "X_test_pad = pad_sequences(X_test_seq, maxlen=max_length, padding='post')"
      ]
    },
    {
      "cell_type": "markdown",
      "metadata": {
        "id": "XK3nVEEcZnx0"
      },
      "source": [
        "Sequential: Her katman bir önceki katmanın çıktısını giriş olarak alır.\n",
        "\n",
        "Embedding Katmanı:Kelimeleri yoğun (dense) bir vektör uzayında temsil etmek.\n",
        "\n",
        "Bu, modelin kelimeler arasındaki ilişkileri öğrenmesine yardımcı olur.\n",
        "\n",
        "Dense Katmanı: Çıkışı bir sınıfa (pozitif veya negatif) sınıflandırır.\n",
        "\n"
      ]
    },
    {
      "cell_type": "code",
      "execution_count": null,
      "metadata": {
        "colab": {
          "base_uri": "https://localhost:8080/"
        },
        "id": "Nwbq0JzKnMU-",
        "outputId": "1015b508-d383-4531-c472-49ee3b5cb774"
      },
      "outputs": [
        {
          "name": "stderr",
          "output_type": "stream",
          "text": [
            "/usr/local/lib/python3.10/dist-packages/keras/src/layers/core/embedding.py:90: UserWarning: Argument `input_length` is deprecated. Just remove it.\n",
            "  warnings.warn(\n"
          ]
        }
      ],
      "source": [
        "# LSTM modelini oluşturma\n",
        "model = Sequential()\n",
        "model.add(Embedding(input_dim=5000, output_dim=128, input_length=max_length))\n",
        "model.add(LSTM(128, dropout=0.2, recurrent_dropout=0.2))\n",
        "model.add(Dense(1, activation='sigmoid'))\n"
      ]
    },
    {
      "cell_type": "markdown",
      "metadata": {
        "id": "F3hTIxl6aajn"
      },
      "source": [
        "\n",
        "\n",
        "\n",
        "**NEDEN LSTM?**\n",
        "\n",
        "LSTM'ler, sıradan RNN'lere kıyasla uzun süreli bağımlılıkları daha iyi öğrenebilir.\n",
        "\n",
        "RNN'lerde, gradyanların kaybolması (vanishing gradient) nedeniyle uzun sekanslardaki bilgiyi öğrenmek zorlaşır.\n",
        "LSTM, içsel yapısındaki kapılar (gates) sayesinde bu sorunu çözerek daha verimli öğrenir."
      ]
    },
    {
      "cell_type": "code",
      "execution_count": null,
      "metadata": {
        "colab": {
          "base_uri": "https://localhost:8080/"
        },
        "id": "_2matstJoLLH",
        "outputId": "41ab086e-b556-4317-d4a7-387316ffe3e2"
      },
      "outputs": [
        {
          "name": "stdout",
          "output_type": "stream",
          "text": [
            "Epoch 1/5\n",
            "\u001b[1m625/625\u001b[0m \u001b[32m━━━━━━━━━━━━━━━━━━━━\u001b[0m\u001b[37m\u001b[0m \u001b[1m190s\u001b[0m 298ms/step - accuracy: 0.5960 - loss: 0.6602 - val_accuracy: 0.6811 - val_loss: 0.6059\n",
            "Epoch 2/5\n",
            "\u001b[1m625/625\u001b[0m \u001b[32m━━━━━━━━━━━━━━━━━━━━\u001b[0m\u001b[37m\u001b[0m \u001b[1m181s\u001b[0m 290ms/step - accuracy: 0.7378 - loss: 0.5342 - val_accuracy: 0.8444 - val_loss: 0.3691\n",
            "Epoch 3/5\n",
            "\u001b[1m625/625\u001b[0m \u001b[32m━━━━━━━━━━━━━━━━━━━━\u001b[0m\u001b[37m\u001b[0m \u001b[1m166s\u001b[0m 266ms/step - accuracy: 0.8638 - loss: 0.3385 - val_accuracy: 0.8621 - val_loss: 0.3201\n",
            "Epoch 4/5\n",
            "\u001b[1m625/625\u001b[0m \u001b[32m━━━━━━━━━━━━━━━━━━━━\u001b[0m\u001b[37m\u001b[0m \u001b[1m166s\u001b[0m 266ms/step - accuracy: 0.8950 - loss: 0.2642 - val_accuracy: 0.8771 - val_loss: 0.2913\n",
            "Epoch 5/5\n",
            "\u001b[1m625/625\u001b[0m \u001b[32m━━━━━━━━━━━━━━━━━━━━\u001b[0m\u001b[37m\u001b[0m \u001b[1m205s\u001b[0m 272ms/step - accuracy: 0.9094 - loss: 0.2359 - val_accuracy: 0.8739 - val_loss: 0.3052\n"
          ]
        }
      ],
      "source": [
        "# Modeli derleme\n",
        "model.compile(loss='binary_crossentropy', optimizer=Adam(), metrics=['accuracy'])\n",
        "\n",
        "# Modeli eğitme\n",
        "history = model.fit(X_train_pad, y_train, epochs=5, batch_size=64, validation_data=(X_test_pad, y_test))\n"
      ]
    },
    {
      "cell_type": "markdown",
      "metadata": {
        "id": "gnW3Uki6cLfc"
      },
      "source": [
        "**Neden binary cross-entropy?**\n",
        "\n",
        "Projede ikili sınıflandırma yapıyoruz (pozitif ve negatif yorumlar). Bu nedenle, binary cross-entropy en uygun kayıp fonksiyonudur.\n",
        "\n",
        "**Neden Adam?**\n",
        "\n",
        "Adam, uyarlanabilir öğrenme oranı kullanarak daha hızlı ve daha stabil öğrenme sağlar."
      ]
    },
    {
      "cell_type": "code",
      "execution_count": null,
      "metadata": {
        "colab": {
          "base_uri": "https://localhost:8080/"
        },
        "id": "Q2owt9lvoOuN",
        "outputId": "7e9e2084-a170-487b-fa05-d0f0c218d48d"
      },
      "outputs": [
        {
          "name": "stdout",
          "output_type": "stream",
          "text": [
            "Eğitim doğruluğu:  0.9087250232696533\n",
            "Eğitim kaybı:  0.2368960976600647\n",
            "Doğrulama doğruluğu:  0.8738999962806702\n",
            "Doğrulama kaybı:  0.3052249550819397\n"
          ]
        }
      ],
      "source": [
        "# Eğitim ve doğrulama doğruluğunu yazdırma\n",
        "print(\"Eğitim doğruluğu: \", history.history['accuracy'][-1])\n",
        "print(\"Eğitim kaybı: \", history.history['loss'][-1])\n",
        "print(\"Doğrulama doğruluğu: \", history.history['val_accuracy'][-1])\n",
        "print(\"Doğrulama kaybı: \", history.history['val_loss'][-1])"
      ]
    },
    {
      "cell_type": "code",
      "execution_count": null,
      "metadata": {
        "colab": {
          "base_uri": "https://localhost:8080/",
          "height": 52
        },
        "id": "7RxdDXn3oUb0",
        "outputId": "f0b618b8-cb70-44dd-d6f1-0c33c5e9e6ef"
      },
      "outputs": [
        {
          "data": {
            "text/plain": [
              "<Figure size 1200x600 with 0 Axes>"
            ]
          },
          "execution_count": 25,
          "metadata": {},
          "output_type": "execute_result"
        },
        {
          "data": {
            "text/plain": [
              "<Figure size 1200x600 with 0 Axes>"
            ]
          },
          "metadata": {},
          "output_type": "display_data"
        }
      ],
      "source": [
        "# Eğitim ve doğrulama doğruluğu grafiklerini çizme\n",
        "plt.figure(figsize=(12, 6))"
      ]
    },
    {
      "cell_type": "code",
      "execution_count": null,
      "metadata": {
        "colab": {
          "base_uri": "https://localhost:8080/",
          "height": 489
        },
        "id": "UnTk0EhuoVDb",
        "outputId": "c2cf5516-643f-41dc-c9cd-1c1038567b3c"
      },
      "outputs": [
        {
          "data": {
            "text/plain": [
              "<matplotlib.legend.Legend at 0x7c740137d480>"
            ]
          },
          "execution_count": 26,
          "metadata": {},
          "output_type": "execute_result"
        },
        {
          "data": {
            "image/png": "[encoded data removed]",
            "text/plain": [
              "<Figure size 640x480 with 1 Axes>"
            ]
          },
          "metadata": {},
          "output_type": "display_data"
        }
      ],
      "source": [
        "# Accuracy grafik\n",
        "plt.subplot(1, 2, 1)\n",
        "plt.plot(history.history['accuracy'], label='Eğitim Doğruluğu')\n",
        "plt.plot(history.history['val_accuracy'], label='Doğrulama Doğruluğu')\n",
        "plt.title('Doğruluk Grafiği')\n",
        "plt.xlabel('Epoch')\n",
        "plt.ylabel('Doğruluk')\n",
        "plt.legend()"
      ]
    },
    {
      "cell_type": "markdown",
      "metadata": {
        "id": "0s1OiuNte6ma"
      },
      "source": [
        "Eğitim ve doğrulama doğrulukları düzenli bir şekilde artarken, birbirine yakın seyretmesi, modelin genelleme yeteneğinin güçlü olduğunu ve overfitting yapmadığını göstermektedir."
      ]
    },
    {
      "cell_type": "code",
      "execution_count": null,
      "metadata": {
        "colab": {
          "base_uri": "https://localhost:8080/",
          "height": 487
        },
        "id": "8hLy6QIOoaWu",
        "outputId": "40052f98-6e32-45a2-cae1-f04a14331eee"
      },
      "outputs": [
        {
          "data": {
            "image/png": "[encoded data removed]",
            "text/plain": [
              "<Figure size 640x480 with 1 Axes>"
            ]
          },
          "metadata": {},
          "output_type": "display_data"
        }
      ],
      "source": [
        "# Loss grafik\n",
        "plt.subplot(1, 2, 2)\n",
        "plt.plot(history.history['loss'], label='Eğitim Kaybı')\n",
        "plt.plot(history.history['val_loss'], label='Doğrulama Kaybı')\n",
        "plt.title('Kayıp Grafiği')\n",
        "plt.xlabel('Epoch')\n",
        "plt.ylabel('Kayıp')\n",
        "plt.legend()\n",
        "\n",
        "plt.tight_layout()\n",
        "plt.show()\n"
      ]
    },
    {
      "cell_type": "markdown",
      "metadata": {
        "id": "WSNWF683fYDB"
      },
      "source": [
        "Eğitim ve doğrulama kayıpları zamanla azalış gösteriyor."
      ]
    },
    {
      "cell_type": "code",
      "execution_count": null,
      "metadata": {
        "colab": {
          "base_uri": "https://localhost:8080/"
        },
        "id": "zQJxy6yVonkz",
        "outputId": "6ae0084c-e59a-4737-9e8f-898e4e16773d"
      },
      "outputs": [
        {
          "name": "stdout",
          "output_type": "stream",
          "text": [
            "\u001b[1m313/313\u001b[0m \u001b[32m━━━━━━━━━━━━━━━━━━━━\u001b[0m\u001b[37m\u001b[0m \u001b[1m19s\u001b[0m 61ms/step\n",
            "F1 Skoru: 0.879778815902374\n",
            "Recall Değeri: 0.9156578686247271\n"
          ]
        }
      ],
      "source": [
        "# Confusion Matrix çizimi\n",
        "y_pred = (model.predict(X_test_pad) > 0.5).astype(int)  # Tahminler\n",
        "cm = confusion_matrix(y_test, y_pred)\n",
        "\n",
        "# F1 ve Recall değerlerini hesaplayalım\n",
        "f1 = f1_score(y_test, y_pred)\n",
        "recall = recall_score(y_test, y_pred)\n",
        "\n",
        "print(f\"F1 Skoru: {f1}\")\n",
        "print(f\"Recall Değeri: {recall}\")"
      ]
    },
    {
      "cell_type": "code",
      "execution_count": null,
      "metadata": {
        "colab": {
          "base_uri": "https://localhost:8080/",
          "height": 472
        },
        "id": "rCu2gQTTopiW",
        "outputId": "5e748fb0-c82b-4a15-b7d9-4e883b5e8180"
      },
      "outputs": [
        {
          "data": {
            "image/png": "[encoded data removed]",
            "text/plain": [
              "<Figure size 640x480 with 2 Axes>"
            ]
          },
          "metadata": {},
          "output_type": "display_data"
        }
      ],
      "source": [
        "# Confusion Matrix görselleştirme\n",
        "disp = ConfusionMatrixDisplay(confusion_matrix=cm, display_labels=['Negatif', 'Pozitif'])\n",
        "disp.plot(cmap='Blues')\n",
        "plt.title('Confusion Matrix')\n",
        "plt.show()"
      ]
    },
    {
      "cell_type": "markdown",
      "metadata": {
        "id": "qxT0QCXqfzKk"
      },
      "source": [
        "Genel olarak dengeli bir dağılım var.\n",
        "\n",
        "10.000 Veriden:\n",
        "\n",
        "8739 Doğru Tahmin\n",
        "\n",
        "1261 Yanlış Tahmin"
      ]
    },
    {
      "cell_type": "code",
      "execution_count": null,
      "metadata": {
        "colab": {
          "base_uri": "https://localhost:8080/"
        },
        "id": "GsdBykbeosTr",
        "outputId": "d27e1dc9-19b0-45a6-9193-be9ec315f882"
      },
      "outputs": [
        {
          "name": "stdout",
          "output_type": "stream",
          "text": [
            "Bir film yorumu girin: \"The movie was fantastic! The plot was engaging, the characters were well-developed, and the pacing was perfect. The visuals were stunning, and the performances were incredibly compelling. A must-watch!\"\n",
            "\u001b[1m1/1\u001b[0m \u001b[32m━━━━━━━━━━━━━━━━━━━━\u001b[0m\u001b[37m\u001b[0m \u001b[1m0s\u001b[0m 31ms/step\n",
            "Modelin tahmini:  Pozitif Yorum\n"
          ]
        }
      ],
      "source": [
        "# Test: Kullanıcıdan yorum alıp tahmin etme\n",
        "user_comment = input(\"Bir film yorumu girin: \")\n",
        "sentiment = predict_sentiment(user_comment)\n",
        "print(\"Modelin tahmini: \", sentiment)"
      ]
    }
  ],
  "metadata": {
    "colab": {
      "provenance": []
    },
    "kernelspec": {
      "display_name": "Python 3",
      "name": "python3"
    },
    "language_info": {
      "name": "python"
    }
  },
  "nbformat": 4,
  "nbformat_minor": 0
}
